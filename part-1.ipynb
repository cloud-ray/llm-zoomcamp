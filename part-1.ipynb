{
 "cells": [
  {
   "cell_type": "code",
   "execution_count": 1,
   "id": "05097466-f1cb-4744-bb35-896c4a2a6577",
   "metadata": {},
   "outputs": [],
   "source": [
    "import os\n",
    "\n",
    "from groq import Groq"
   ]
  },
  {
   "cell_type": "code",
   "execution_count": 3,
   "id": "12da37a6-cbf5-4a4f-a261-df3f20c1c029",
   "metadata": {},
   "outputs": [],
   "source": [
    "os.environ[\"GROQ_API_KEY\"] = \"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\""
   ]
  },
  {
   "cell_type": "code",
   "execution_count": 4,
   "id": "9de81f64-7f1e-4dd5-9342-7479b251b767",
   "metadata": {},
   "outputs": [],
   "source": [
    "client = Groq(\n",
    "    api_key=os.environ.get(\"GROQ_API_KEY\"),\n",
    ")"
   ]
  },
  {
   "cell_type": "code",
   "execution_count": 5,
   "id": "df7c4263-40df-46a4-9050-fc035af3154d",
   "metadata": {},
   "outputs": [
    {
     "name": "stdout",
     "output_type": "stream",
     "text": [
      "Fast language models have gained significant importance in recent years due to their numerous applications and benefits in various fields. Here are some reasons why fast language models are essential:\n",
      "\n",
      "1. **Efficient processing**: Fast language models allow for rapid processing of large-scale text data, making them particularly useful for applications where speed and scalability are crucial.\n",
      "\n",
      "2. **Improved performance**: Faster models can process more data and perform tasks like text classification, sentiment analysis, and language translation more effectively than traditional language models.\n",
      "\n",
      "3. **Real-time applications**: Fast language models enable real-time processing of text data for applications such as chatbots, voice assistants, and other interactive technologies that require immediate responses.\n",
      "\n",
      "4. **Enhanced collaboration**: Fast language models facilitate seamless collaboration among teams, as they can quickly analyze and synthesize text-based data from various sources.\n",
      "\n",
      "5. **Faster innovation**: The increased speed provided by fast language models accelerates innovation and fosters a culture of constant improvement, allowing scientists and developers to focus on new challenges and breakthroughs.\n",
      "\n",
      "6. **More effective summarization**: Fast language models can quickly summarize long text documents or articles, making it easier for readers to quickly understand complex information.\n",
      "\n",
      "7. **Streamlined troubleshooting**: For debugging and issue resolution, fast language models can quickly analyze large amounts of text data to identify potential problems or bugs.\n",
      "\n",
      "8. **Improved text analysis**: Fast language models enable the analysis of a vast amount of text data, revealing insights and patterns that can be utilized to improve decision-making and strategy development.\n",
      "\n",
      "9. **Enhanced accessibility**: With faster language models, online platforms and applications can provide instant translations and summaries, enhancing communication and accessibility for people speaking different languages.\n",
      "\n",
      "10. **Increased automation**: Fast language models can automate various tasks, such as text classification, sentiment analysis, and topic modeling, freeing up human analysts to focus on higher-level tasks.\n",
      "\n",
      "In summary, fast language models play a vital role in accelerating innovation, improving efficiency, and enhancing decision-making in various applications across industries and domains.\n"
     ]
    }
   ],
   "source": [
    "chat_completion = client.chat.completions.create(\n",
    "    messages=[\n",
    "        {\n",
    "            \"role\": \"user\",\n",
    "            \"content\": \"Explain the importance of fast language models\",\n",
    "        }\n",
    "    ],\n",
    "    model=\"llama3-8b-8192\",\n",
    ")\n",
    "\n",
    "print(chat_completion.choices[0].message.content)"
   ]
  },
  {
   "cell_type": "code",
   "execution_count": null,
   "id": "deb9c8d4-cc81-4e71-aff3-964ca3829312",
   "metadata": {},
   "outputs": [],
   "source": [
    "def search(query):\n",
    "    boost = {'question':3.0, 'section':0.5, \n",
    "\n",
    "    results = index.search(\n",
    "        query = query,\n",
    "        filter_dict = {'course': 'data-engineering-zoomcap'},\n",
    "        boost_dict = boost,\n",
    "        num_results = 5\n",
    "    )\n",
    "\n",
    "    return results"
   ]
  },
  {
   "cell_type": "code",
   "execution_count": 7,
   "id": "4a9665c1-cdb5-4c27-ad6e-83548b48514a",
   "metadata": {},
   "outputs": [
    {
     "name": "stdout",
     "output_type": "stream",
     "text": [
      "Fast language models have gained significant importance in recent years due to their numerous applications and benefits in various fields. Here are some reasons why fast language models are essential:\n",
      "\n",
      "1. **Efficient processing**: Fast language models allow for rapid processing of large-scale text data, making them particularly useful for applications where speed and scalability are crucial.\n",
      "\n",
      "2. **Improved performance**: Faster models can process more data and perform tasks like text classification, sentiment analysis, and language translation more effectively than traditional language models.\n",
      "\n",
      "3. **Real-time applications**: Fast language models enable real-time processing of text data for applications such as chatbots, voice assistants, and other interactive technologies that require immediate responses.\n",
      "\n",
      "4. **Enhanced collaboration**: Fast language models facilitate seamless collaboration among teams, as they can quickly analyze and synthesize text-based data from various sources.\n",
      "\n",
      "5. **Faster innovation**: The increased speed provided by fast language models accelerates innovation and fosters a culture of constant improvement, allowing scientists and developers to focus on new challenges and breakthroughs.\n",
      "\n",
      "6. **More effective summarization**: Fast language models can quickly summarize long text documents or articles, making it easier for readers to quickly understand complex information.\n",
      "\n",
      "7. **Streamlined troubleshooting**: For debugging and issue resolution, fast language models can quickly analyze large amounts of text data to identify potential problems or bugs.\n",
      "\n",
      "8. **Improved text analysis**: Fast language models enable the analysis of a vast amount of text data, revealing insights and patterns that can be utilized to improve decision-making and strategy development.\n",
      "\n",
      "9. **Enhanced accessibility**: With faster language models, online platforms and applications can provide instant translations and summaries, enhancing communication and accessibility for people speaking different languages.\n",
      "\n",
      "10. **Increased automation**: Fast language models can automate various tasks, such as text classification, sentiment analysis, and topic modeling, freeing up human analysts to focus on higher-level tasks.\n",
      "\n",
      "In summary, fast language models play a vital role in accelerating innovation, improving efficiency, and enhancing decision-making in various applications across industries and domains.\n"
     ]
    }
   ],
   "source": [
    "def llm(prompt):\n",
    "    response = client.chat.completions.create(\n",
    "    messages=[\n",
    "        {\n",
    "            \"role\": \"user\",\n",
    "            \"content\": \"Explain the importance of fast language models\",\n",
    "        }\n",
    "    ],\n",
    "    model=\"llama3-8b-8192\",\n",
    ")\n",
    "\n",
    "print(chat_completion.choices[0].message.content)"
   ]
  }
 ],
 "metadata": {
  "kernelspec": {
   "display_name": "Python 3 (ipykernel)",
   "language": "python",
   "name": "python3"
  },
  "language_info": {
   "codemirror_mode": {
    "name": "ipython",
    "version": 3
   },
   "file_extension": ".py",
   "mimetype": "text/x-python",
   "name": "python",
   "nbconvert_exporter": "python",
   "pygments_lexer": "ipython3",
   "version": "3.10.13"
  }
 },
 "nbformat": 4,
 "nbformat_minor": 5
}
